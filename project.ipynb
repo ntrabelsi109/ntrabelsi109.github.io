{
  "cells": [
    {
      "cell_type": "raw",
      "metadata": {},
      "source": [
        "---\n",
        "title: \"Unifying Environmental, Social, and Governance Metrics with Financial Analysis\"\n",
        "author: Nada Trabelsi\n",
        "\n",
        "toc: true\n",
        "toc-title: \"Table of Contents\"\n",
        "toc-depth: 2\n",
        "number-sections: true\n",
        "\n",
        "fig-width: 9\n",
        "\n",
        "execute:\n",
        "  code-tools: true\n",
        "  message: false\n",
        "  warning: false\n",
        "\n",
        "from: markdown+emoji\n",
        "---"
      ],
      "id": "78265d66"
    },
    {
      "cell_type": "markdown",
      "metadata": {},
      "source": [
        "#| include: false\n"
      ],
      "id": "1d2ce661"
    }
  ],
  "metadata": {
    "kernelspec": {
      "name": "python3",
      "language": "python",
      "display_name": "Python 3 (ipykernel)"
    }
  },
  "nbformat": 4,
  "nbformat_minor": 5
}