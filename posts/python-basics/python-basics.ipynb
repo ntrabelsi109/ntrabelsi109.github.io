{
  "cells": [
    {
      "cell_type": "markdown",
      "metadata": {},
      "source": [
        "# Python Basics\n",
        "\n",
        "Nada Trabelsi  \n",
        "2024-02-20\n",
        "\n",
        "## What is Python?\n",
        "\n",
        "Python is a high-level, interpreted programming language.\n",
        "\n",
        "## Variables and Data Types\n",
        "\n",
        "Variables can store data of different types. There are many different\n",
        "data types."
      ],
      "id": "553bafd5-ac02-47b6-90a5-2dac0ad997ae"
    },
    {
      "cell_type": "code",
      "execution_count": 1,
      "metadata": {},
      "outputs": [],
      "source": [
        "integer_variable = 10\n",
        "string_variable = 'Hello'\n",
        "float_variable = 10.5\n",
        "boolean_variable = True\n",
        "nothing_variable = None"
      ],
      "id": "e5f4139e"
    },
    {
      "cell_type": "markdown",
      "metadata": {},
      "source": [
        "## Control Structures\n",
        "\n",
        "Python supports basic conditions from math:"
      ],
      "id": "223e0954-7358-4ac1-a1a5-23cadc100aa9"
    },
    {
      "cell_type": "code",
      "execution_count": 2,
      "metadata": {},
      "outputs": [],
      "source": [
        "# Equals: a == b\n",
        "# Not Equals: a != b\n",
        "# Less than: a < b\n",
        "# Less than or equal to: a <= b\n",
        "# Greater than: a > b\n",
        "# Greater than or equal to: a >= b"
      ],
      "id": "a384c782"
    },
    {
      "cell_type": "markdown",
      "metadata": {},
      "source": [
        "## Lists, Dictionaries, and Tuples\n",
        "\n",
        "A list is a collection which is ordered and changeable.\n",
        "\n",
        "A dictionary is a collection which is unordered, changeable and indexed.\n",
        "\n",
        "A tuple is a collection which is immutable."
      ],
      "id": "a645c0e6-ee63-4cdd-87b4-9f237453fdf4"
    },
    {
      "cell_type": "code",
      "execution_count": 3,
      "metadata": {},
      "outputs": [],
      "source": [
        "# List example:\n",
        "my_list = ['apple', 'banana', 'cherry']\n",
        "\n",
        "# Dictionary example:\n",
        "my_dict = {'name': 'John', 'age': 36}\n",
        "\n",
        "# Tuple example:\n",
        "my_tuple = (1, 2, 3)"
      ],
      "id": "618c5ebf"
    },
    {
      "cell_type": "markdown",
      "metadata": {},
      "source": [
        "## for Loops\n",
        "\n",
        "A loop is a way of executing a piece of code over and over"
      ],
      "id": "92c150ca-2cff-4647-89f6-7169a12cba7f"
    },
    {
      "cell_type": "code",
      "execution_count": 4,
      "metadata": {},
      "outputs": [
        {
          "output_type": "stream",
          "name": "stdout",
          "text": [
            "Ben\n",
            "Chris\n",
            "Kate\n",
            "Mary"
          ]
        }
      ],
      "source": [
        "name_list = [\"Ben\", \"Chris\", \"Kate\", \"Mary\"]\n",
        "\n",
        "for name in name_list:\n",
        "    print(name)"
      ],
      "id": "39466582"
    }
  ],
  "nbformat": 4,
  "nbformat_minor": 5,
  "metadata": {
    "kernelspec": {
      "name": "python3",
      "display_name": "Python 3 (ipykernel)",
      "language": "python"
    }
  }
}