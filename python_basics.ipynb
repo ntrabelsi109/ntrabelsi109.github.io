{
  "cells": [
    {
      "cell_type": "markdown",
      "id": "d888a05d",
      "metadata": {
        "id": "d888a05d"
      },
      "source": [
        "# Introduction to Python"
      ]
    },
    {
      "cell_type": "markdown",
      "id": "4ced8e71",
      "metadata": {
        "id": "4ced8e71"
      },
      "source": [
        "## What is Python?"
      ]
    },
    {
      "cell_type": "markdown",
      "source": [
        "Python is a high-level, interpreted programming language. This is a simple Python code:"
      ],
      "metadata": {
        "id": "H9PipRWtEsfO"
      },
      "id": "H9PipRWtEsfO"
    },
    {
      "cell_type": "code",
      "execution_count": null,
      "id": "834bc383",
      "metadata": {
        "id": "834bc383"
      },
      "outputs": [],
      "source": [
        "print('Hello, World!')"
      ]
    },
    {
      "cell_type": "markdown",
      "id": "39f9fb03",
      "metadata": {
        "id": "39f9fb03"
      },
      "source": [
        "## Variables and Data Types"
      ]
    },
    {
      "cell_type": "markdown",
      "source": [
        "In Python, variables can store data of different types without explicitly declaring the type.\n",
        "\n",
        "For example:"
      ],
      "metadata": {
        "id": "ld1HKQ0XEvx3"
      },
      "id": "ld1HKQ0XEvx3"
    },
    {
      "cell_type": "code",
      "execution_count": null,
      "id": "e6744d1e",
      "metadata": {
        "id": "e6744d1e",
        "colab": {
          "base_uri": "https://localhost:8080/"
        },
        "outputId": "371456e1-bf0f-448f-ae8d-70c4354ce310"
      },
      "outputs": [
        {
          "output_type": "execute_result",
          "data": {
            "text/plain": [
              "10.5"
            ]
          },
          "metadata": {},
          "execution_count": 1
        }
      ],
      "source": [
        "integer_variable = 10\n",
        "string_variable = 'Hello'\n",
        "float_variable = 10.5\n",
        "boolean_variable = True\n",
        "nothing_variable = None\n",
        "\n",
        "float_variable"
      ]
    },
    {
      "cell_type": "markdown",
      "id": "d01ba669",
      "metadata": {
        "id": "d01ba669"
      },
      "source": [
        "## Control Structures"
      ]
    },
    {
      "cell_type": "markdown",
      "source": [
        "Python supports the usual logical conditions from mathematics:"
      ],
      "metadata": {
        "id": "wMeC8exAE2Bv"
      },
      "id": "wMeC8exAE2Bv"
    },
    {
      "cell_type": "code",
      "execution_count": null,
      "id": "f74e2029",
      "metadata": {
        "id": "f74e2029"
      },
      "outputs": [],
      "source": [
        "# Equals: a == b\n",
        "# Not Equals: a != b\n",
        "# Less than: a < b\n",
        "# Less than or equal to: a <= b\n",
        "# Greater than: a > b\n",
        "# Greater than or equal to: a >= b"
      ]
    },
    {
      "cell_type": "markdown",
      "source": [
        "These conditions can be used in several ways, most commonly in 'if statements' and loops."
      ],
      "metadata": {
        "id": "T0RPCSNhE88q"
      },
      "id": "T0RPCSNhE88q"
    },
    {
      "cell_type": "code",
      "source": [
        "# if statement:\n",
        "if 5 > 2:\n",
        "    print('Five is greater than two!')"
      ],
      "metadata": {
        "id": "WqMXB9zXE6rB"
      },
      "id": "WqMXB9zXE6rB",
      "execution_count": null,
      "outputs": []
    },
    {
      "cell_type": "markdown",
      "id": "d4d8f434",
      "metadata": {
        "id": "d4d8f434"
      },
      "source": [
        "## Functions"
      ]
    },
    {
      "cell_type": "markdown",
      "source": [
        "A function is a block of code which only runs when it is called.\n",
        "\n",
        "You can pass data, known as parameters, into a function.\n",
        "\n",
        "A function can return data as a result.\n",
        "\n"
      ],
      "metadata": {
        "id": "_c3f-aluFEJH"
      },
      "id": "_c3f-aluFEJH"
    },
    {
      "cell_type": "code",
      "execution_count": null,
      "id": "311db165",
      "metadata": {
        "id": "311db165"
      },
      "outputs": [],
      "source": [
        "# Defining a function:\n",
        "def my_function():\n",
        "    print('Hello from a function')\n",
        "\n",
        "# Calling a function:\n",
        "my_function()"
      ]
    },
    {
      "cell_type": "markdown",
      "id": "e759a298",
      "metadata": {
        "id": "e759a298"
      },
      "source": [
        "## Lists and Dictionaries"
      ]
    },
    {
      "cell_type": "markdown",
      "source": [
        "A list is a collection which is ordered and changeable.\n",
        "\n",
        "A dictionary is a collection which is unordered, changeable and indexed.\n",
        "\n",
        "A tuple is a collection which is immutable."
      ],
      "metadata": {
        "id": "rVrAVX_gFQ1t"
      },
      "id": "rVrAVX_gFQ1t"
    },
    {
      "cell_type": "code",
      "execution_count": null,
      "id": "58d29398",
      "metadata": {
        "id": "58d29398"
      },
      "outputs": [],
      "source": [
        "# List example:\n",
        "my_list = ['apple', 'banana', 'cherry']\n",
        "\n",
        "# Dictionary example:\n",
        "my_dict = {'name': 'John', 'age': 36}\n",
        "\n",
        "# Tuple example:\n",
        "my_tuple = (1, 2, 3)"
      ]
    },
    {
      "cell_type": "code",
      "source": [
        "# for Loops"
      ],
      "metadata": {
        "id": "8E9olbVZO49K"
      },
      "id": "8E9olbVZO49K",
      "execution_count": null,
      "outputs": []
    },
    {
      "cell_type": "markdown",
      "source": [
        "A loop is a way of executing a piece of code over and over\n"
      ],
      "metadata": {
        "id": "ByQzNlszPKMM"
      },
      "id": "ByQzNlszPKMM"
    },
    {
      "cell_type": "code",
      "source": [
        "name_list = [\"Ben\", \"Chris\", \"Kate\", \"Mary\"]\n",
        "\n",
        "for name in name_list:\n",
        "    print(name)"
      ],
      "metadata": {
        "id": "km7tvnMAO_tO"
      },
      "id": "km7tvnMAO_tO",
      "execution_count": null,
      "outputs": []
    },
    {
      "cell_type": "markdown",
      "source": [
        "# Slicing Methods"
      ],
      "metadata": {
        "id": "23GKtdOhPiMt"
      },
      "id": "23GKtdOhPiMt"
    },
    {
      "cell_type": "markdown",
      "source": [
        "An index is the position of a specific element in a sequence. Indexing in Python starts with 0.\n",
        "\n",
        "Slicing is a way to get a subset of a data object.\n",
        "\n",
        "You can slice by using square brackets [], a start index, and an end index. You can also incude a \"step\" count to determine how you want to skip position by.\n",
        "\n",
        "format: [start : end : step]\n",
        "\n",
        "\n"
      ],
      "metadata": {
        "id": "RpnntBZAPl8I"
      },
      "id": "RpnntBZAPl8I"
    },
    {
      "cell_type": "code",
      "source": [
        "string = \"abcdefghijklmnaop\"\n",
        "print( string[1 : 6 : 2] )"
      ],
      "metadata": {
        "colab": {
          "base_uri": "https://localhost:8080/"
        },
        "id": "SZ4LcJjeQRSp",
        "outputId": "9fe54446-2bb7-42c8-9f3a-4283245da7cb"
      },
      "id": "SZ4LcJjeQRSp",
      "execution_count": 12,
      "outputs": [
        {
          "output_type": "stream",
          "name": "stdout",
          "text": [
            "bdf\n"
          ]
        }
      ]
    },
    {
      "cell_type": "markdown",
      "source": [
        "# Importing Modules, Packages, and Libraries"
      ],
      "metadata": {
        "id": "uiucshwPSD0D"
      },
      "id": "uiucshwPSD0D"
    },
    {
      "cell_type": "markdown",
      "source": [
        "A **module** is a group of related codes saved in a file with the extension .py\n",
        "\n",
        "A **package** is a directory of a collection of modules\n",
        "\n",
        "A **library** is a collection of packages"
      ],
      "metadata": {
        "id": "KXCQZGwWSSmm"
      },
      "id": "KXCQZGwWSSmm"
    },
    {
      "cell_type": "markdown",
      "source": [
        "You can import modules, open Anaconda Prompt or Terminal and run:"
      ],
      "metadata": {
        "id": "4i_YZUAaS3jj"
      },
      "id": "4i_YZUAaS3jj"
    },
    {
      "cell_type": "code",
      "source": [
        "pip install module_name"
      ],
      "metadata": {
        "id": "KDOSU22STD5I"
      },
      "id": "KDOSU22STD5I",
      "execution_count": null,
      "outputs": []
    },
    {
      "cell_type": "markdown",
      "source": [
        "To install a module on Google Colab add a excalamation point ! in the beginning"
      ],
      "metadata": {
        "id": "NCUbK1MqTIdF"
      },
      "id": "NCUbK1MqTIdF"
    },
    {
      "cell_type": "markdown",
      "source": [
        "# Practice Problems"
      ],
      "metadata": {
        "id": "2artDVHhTXUr"
      },
      "id": "2artDVHhTXUr"
    },
    {
      "cell_type": "markdown",
      "source": [
        "Question 1.\n",
        "\n",
        "Using Python operations only, calculate below:"
      ],
      "metadata": {
        "id": "W8ionFM5TZXV"
      },
      "id": "W8ionFM5TZXV"
    },
    {
      "cell_type": "code",
      "source": [
        "2**5/(7*(4-2**3))"
      ],
      "metadata": {
        "colab": {
          "base_uri": "https://localhost:8080/"
        },
        "id": "MsqvsDUETo_N",
        "outputId": "3012a4b9-c8e2-4133-e2bc-4feae907e935"
      },
      "id": "MsqvsDUETo_N",
      "execution_count": 13,
      "outputs": [
        {
          "output_type": "execute_result",
          "data": {
            "text/plain": [
              "-1.1428571428571428"
            ]
          },
          "metadata": {},
          "execution_count": 13
        }
      ]
    },
    {
      "cell_type": "markdown",
      "source": [
        "Question 2.\n",
        "\n",
        "For each expression below, what is the value of the expression? Explain thoroughly."
      ],
      "metadata": {
        "id": "f6Qf_cV7T_xy"
      },
      "id": "f6Qf_cV7T_xy"
    },
    {
      "cell_type": "code",
      "source": [
        "20 == '20'"
      ],
      "metadata": {
        "colab": {
          "base_uri": "https://localhost:8080/"
        },
        "id": "SfgDGtiGURdc",
        "outputId": "7eb848f3-4f7e-4716-c276-ef4c49809186"
      },
      "id": "SfgDGtiGURdc",
      "execution_count": 14,
      "outputs": [
        {
          "output_type": "execute_result",
          "data": {
            "text/plain": [
              "False"
            ]
          },
          "metadata": {},
          "execution_count": 14
        }
      ]
    },
    {
      "cell_type": "markdown",
      "source": [
        "False because the integer 20 is not equal to the string 20."
      ],
      "metadata": {
        "id": "Wr-cH4RCUTYI"
      },
      "id": "Wr-cH4RCUTYI"
    },
    {
      "cell_type": "code",
      "source": [
        "x = 4.0\n",
        "y = .5\n",
        "z = 3*y - x\n",
        "\n",
        "x < y or 3*y < x"
      ],
      "metadata": {
        "colab": {
          "base_uri": "https://localhost:8080/"
        },
        "id": "V0ygRuKfUWi9",
        "outputId": "53cdff19-687f-4b88-d826-08ac61b5dd22"
      },
      "id": "V0ygRuKfUWi9",
      "execution_count": 15,
      "outputs": [
        {
          "output_type": "execute_result",
          "data": {
            "text/plain": [
              "True"
            ]
          },
          "metadata": {},
          "execution_count": 15
        }
      ]
    },
    {
      "cell_type": "markdown",
      "source": [
        "True because by using \"or\" you only need one of the statements to be true. So although one is false, because the other is true, the whole expression is true.  "
      ],
      "metadata": {
        "id": "YIInx2JUUa81"
      },
      "id": "YIInx2JUUa81"
    },
    {
      "cell_type": "markdown",
      "source": [
        "Question 3.\n",
        "\n",
        "Write a Python code that uses slicing and the print() function to print out the following message:\n",
        "\n",
        "The total trip cost is: $12.80"
      ],
      "metadata": {
        "id": "FkDMjv4MU0MI"
      },
      "id": "FkDMjv4MU0MI"
    },
    {
      "cell_type": "code",
      "source": [
        "fare = \"$10.00\"\n",
        "tip = \"2.00$\"\n",
        "tax = \"$ 0.80\""
      ],
      "metadata": {
        "id": "vNb77XJKSG-Y"
      },
      "execution_count": 16,
      "outputs": [],
      "id": "vNb77XJKSG-Y"
    },
    {
      "cell_type": "code",
      "source": [
        "total= fare[1] + tip[0] + \".\" + tax[4:6]\n",
        "print(total)"
      ],
      "metadata": {
        "colab": {
          "base_uri": "https://localhost:8080/"
        },
        "id": "HSQyq21kSI5g",
        "outputId": "8c81645c-f73a-43ad-cf66-0c524a149146"
      },
      "execution_count": 17,
      "outputs": [
        {
          "output_type": "stream",
          "name": "stdout",
          "text": [
            "12.80\n"
          ]
        }
      ],
      "id": "HSQyq21kSI5g"
    },
    {
      "cell_type": "code",
      "source": [
        "print(\"The total trip is: $\" + total)"
      ],
      "metadata": {
        "colab": {
          "base_uri": "https://localhost:8080/"
        },
        "id": "yPDP1mzXTOhu",
        "outputId": "969a32e7-7dd3-48ce-b352-a27c543c4a70"
      },
      "execution_count": 18,
      "outputs": [
        {
          "output_type": "stream",
          "name": "stdout",
          "text": [
            "The total trip is: $12.80\n"
          ]
        }
      ],
      "id": "yPDP1mzXTOhu"
    },
    {
      "cell_type": "markdown",
      "source": [
        "Question 4.\n",
        "\n",
        "Write a Python code that uses print() and max() functions to print out the largest value in the list, list_variable, as follows:\n",
        "\n",
        "The largest value in the list is: 1000"
      ],
      "metadata": {
        "id": "s3uIWd1tVT2G"
      },
      "id": "s3uIWd1tVT2G"
    },
    {
      "cell_type": "code",
      "source": [
        "list_variable = [100, 144, 169, 1000, 8]\n",
        "print(\"The largest value in the list is: \", max(list_variable))"
      ],
      "metadata": {
        "colab": {
          "base_uri": "https://localhost:8080/"
        },
        "id": "a0dn7op3VeOw",
        "outputId": "fd6f3c55-af69-480b-b7d4-2b4ec71035a3"
      },
      "id": "a0dn7op3VeOw",
      "execution_count": 20,
      "outputs": [
        {
          "output_type": "stream",
          "name": "stdout",
          "text": [
            "The largest value in the list is:  1000\n"
          ]
        }
      ]
    },
    {
      "cell_type": "markdown",
      "source": [
        "Question 5.\n",
        "\n",
        "Import the pandas library as pd.\n",
        "Install the itables package.\n",
        "From itables, import the functions init_notebook_mode and show."
      ],
      "metadata": {
        "id": "GkZcA3YFVsDu"
      },
      "id": "GkZcA3YFVsDu"
    },
    {
      "cell_type": "code",
      "source": [
        "import pandas as pd"
      ],
      "metadata": {
        "id": "Qld1BQtQVrFr"
      },
      "id": "Qld1BQtQVrFr",
      "execution_count": 21,
      "outputs": []
    },
    {
      "cell_type": "code",
      "source": [
        "!pip install itables"
      ],
      "metadata": {
        "colab": {
          "base_uri": "https://localhost:8080/"
        },
        "id": "QtVXYTsaV1Qu",
        "outputId": "35b0662f-be09-4e48-e7f6-90928d882c25"
      },
      "id": "QtVXYTsaV1Qu",
      "execution_count": 22,
      "outputs": [
        {
          "output_type": "stream",
          "name": "stdout",
          "text": [
            "Collecting itables\n",
            "  Downloading itables-1.7.0-py3-none-any.whl (200 kB)\n",
            "\u001b[?25l     \u001b[90m━━━━━━━━━━━━━━━━━━━━━━━━━━━━━━━━━━━━━━━━\u001b[0m \u001b[32m0.0/200.9 kB\u001b[0m \u001b[31m?\u001b[0m eta \u001b[36m-:--:--\u001b[0m\r\u001b[2K     \u001b[91m━━━━━━━━━━━━━━━━━━━━━━━━━━━━━━━━━━━━━━\u001b[0m\u001b[91m╸\u001b[0m\u001b[90m━\u001b[0m \u001b[32m194.6/200.9 kB\u001b[0m \u001b[31m6.5 MB/s\u001b[0m eta \u001b[36m0:00:01\u001b[0m\r\u001b[2K     \u001b[90m━━━━━━━━━━━━━━━━━━━━━━━━━━━━━━━━━━━━━━━━\u001b[0m \u001b[32m200.9/200.9 kB\u001b[0m \u001b[31m5.2 MB/s\u001b[0m eta \u001b[36m0:00:00\u001b[0m\n",
            "\u001b[?25hRequirement already satisfied: IPython in /usr/local/lib/python3.10/dist-packages (from itables) (7.34.0)\n",
            "Requirement already satisfied: pandas in /usr/local/lib/python3.10/dist-packages (from itables) (1.5.3)\n",
            "Requirement already satisfied: numpy in /usr/local/lib/python3.10/dist-packages (from itables) (1.25.2)\n",
            "Requirement already satisfied: setuptools>=18.5 in /usr/local/lib/python3.10/dist-packages (from IPython->itables) (67.7.2)\n",
            "Collecting jedi>=0.16 (from IPython->itables)\n",
            "  Downloading jedi-0.19.1-py2.py3-none-any.whl (1.6 MB)\n",
            "\u001b[2K     \u001b[90m━━━━━━━━━━━━━━━━━━━━━━━━━━━━━━━━━━━━━━━━\u001b[0m \u001b[32m1.6/1.6 MB\u001b[0m \u001b[31m15.4 MB/s\u001b[0m eta \u001b[36m0:00:00\u001b[0m\n",
            "\u001b[?25hRequirement already satisfied: decorator in /usr/local/lib/python3.10/dist-packages (from IPython->itables) (4.4.2)\n",
            "Requirement already satisfied: pickleshare in /usr/local/lib/python3.10/dist-packages (from IPython->itables) (0.7.5)\n",
            "Requirement already satisfied: traitlets>=4.2 in /usr/local/lib/python3.10/dist-packages (from IPython->itables) (5.7.1)\n",
            "Requirement already satisfied: prompt-toolkit!=3.0.0,!=3.0.1,<3.1.0,>=2.0.0 in /usr/local/lib/python3.10/dist-packages (from IPython->itables) (3.0.43)\n",
            "Requirement already satisfied: pygments in /usr/local/lib/python3.10/dist-packages (from IPython->itables) (2.16.1)\n",
            "Requirement already satisfied: backcall in /usr/local/lib/python3.10/dist-packages (from IPython->itables) (0.2.0)\n",
            "Requirement already satisfied: matplotlib-inline in /usr/local/lib/python3.10/dist-packages (from IPython->itables) (0.1.6)\n",
            "Requirement already satisfied: pexpect>4.3 in /usr/local/lib/python3.10/dist-packages (from IPython->itables) (4.9.0)\n",
            "Requirement already satisfied: python-dateutil>=2.8.1 in /usr/local/lib/python3.10/dist-packages (from pandas->itables) (2.8.2)\n",
            "Requirement already satisfied: pytz>=2020.1 in /usr/local/lib/python3.10/dist-packages (from pandas->itables) (2023.4)\n",
            "Requirement already satisfied: parso<0.9.0,>=0.8.3 in /usr/local/lib/python3.10/dist-packages (from jedi>=0.16->IPython->itables) (0.8.3)\n",
            "Requirement already satisfied: ptyprocess>=0.5 in /usr/local/lib/python3.10/dist-packages (from pexpect>4.3->IPython->itables) (0.7.0)\n",
            "Requirement already satisfied: wcwidth in /usr/local/lib/python3.10/dist-packages (from prompt-toolkit!=3.0.0,!=3.0.1,<3.1.0,>=2.0.0->IPython->itables) (0.2.13)\n",
            "Requirement already satisfied: six>=1.5 in /usr/local/lib/python3.10/dist-packages (from python-dateutil>=2.8.1->pandas->itables) (1.16.0)\n",
            "Installing collected packages: jedi, itables\n",
            "Successfully installed itables-1.7.0 jedi-0.19.1\n"
          ]
        }
      ]
    },
    {
      "cell_type": "code",
      "source": [
        "from itables import init_notebook_mode\n",
        "from itables import show"
      ],
      "metadata": {
        "id": "8Shd3iO3V8Km"
      },
      "id": "8Shd3iO3V8Km",
      "execution_count": 23,
      "outputs": []
    }
  ],
  "metadata": {
    "colab": {
      "provenance": []
    },
    "language_info": {
      "name": "python"
    },
    "kernelspec": {
      "name": "python3",
      "display_name": "Python 3"
    }
  },
  "nbformat": 4,
  "nbformat_minor": 5
}